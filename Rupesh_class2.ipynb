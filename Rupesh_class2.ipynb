{
 "cells": [
  {
   "cell_type": "code",
   "execution_count": null,
   "id": "298c17c9",
   "metadata": {},
   "outputs": [],
   "source": [
    "a=10\n",
    "b=30\n",
    "print(\"this is variable a\",a,\"i want to print it again \",a)\n",
    "print(\"This is variable a {} and this is variable b {}\".format(b,a))"
   ]
  },
  {
   "cell_type": "code",
   "execution_count": null,
   "id": "6233bfd2",
   "metadata": {},
   "outputs": [],
   "source": [
    "def printing():\n",
    "    print(\"Functions are very important\")\n",
    "    \n"
   ]
  },
  {
   "cell_type": "code",
   "execution_count": null,
   "id": "7f5da6b6",
   "metadata": {},
   "outputs": [],
   "source": [
    "printing()"
   ]
  },
  {
   "cell_type": "code",
   "execution_count": null,
   "id": "a253be4b",
   "metadata": {},
   "outputs": [],
   "source": [
    "def sum_values(a,b):\n",
    "    c=a+b\n",
    "    return c\n",
    "    print(\"hai\")\n",
    "\n",
    "#sum_values(10,20)"
   ]
  },
  {
   "cell_type": "code",
   "execution_count": null,
   "id": "583c965d",
   "metadata": {},
   "outputs": [],
   "source": [
    "#return values in a function\n",
    "\n",
    "cnt=2\n",
    "summ=sum_values(39,78)\n",
    "#print(summ)\n",
    "print(summ)\n",
    "print(summ/cnt)\n"
   ]
  },
  {
   "cell_type": "code",
   "execution_count": null,
   "id": "3e925b81",
   "metadata": {},
   "outputs": [],
   "source": [
    "def update_num(num):\n",
    "    print(id(num))\n",
    "    num=100\n",
    "    print(id(num))\n",
    "    \n",
    "num=90\n",
    "print(id(num))\n",
    "update_num(num)\n",
    "print(id(num))"
   ]
  },
  {
   "cell_type": "code",
   "execution_count": null,
   "id": "67552bbe",
   "metadata": {},
   "outputs": [],
   "source": [
    "def update_lst(lsts):\n",
    "    print(id(lsts))\n",
    "    lsts[1]=789\n",
    "    print(id(lsts))\n",
    "    \n",
    "lst1=(12,23,34,78,45)\n",
    "print(lst1)\n",
    "print(id(lst1))\n",
    "update_lst(lst1)\n",
    "print(id(lst1))"
   ]
  },
  {
   "cell_type": "code",
   "execution_count": null,
   "id": "b7b09bf3",
   "metadata": {},
   "outputs": [],
   "source": [
    "def sum_marks(*marks):\n",
    "    sum=0\n",
    "    for i in marks:\n",
    "        sum=sum+i\n",
    "    print(\"The total marks is\",sum)\n",
    "    \n",
    "sum_marks(90,89,79,90,98)"
   ]
  },
  {
   "cell_type": "code",
   "execution_count": null,
   "id": "fdaffb5e",
   "metadata": {},
   "outputs": [],
   "source": [
    "def sum_marks_1(name,subj1,subj2):\n",
    "    print(name)\n",
    "    print(\"mark 1\",subj1)\n",
    "    print(\"mark 2\",subj2)\n",
    "    \n",
    "sum_marks_1(\"priya\",subj2=90,subj1=80)"
   ]
  },
  {
   "cell_type": "code",
   "execution_count": null,
   "id": "66173993",
   "metadata": {},
   "outputs": [],
   "source": [
    "def sum_marks_2(name,**subj):\n",
    "    print(name)\n",
    "    for i,j in subj.items():\n",
    "        print(i,j)\n",
    "        \n",
    "    \n",
    "sum_marks_2(\"priya\",age=12,mark1=90,mark2=80)"
   ]
  },
  {
   "cell_type": "code",
   "execution_count": null,
   "id": "14c1ccd8",
   "metadata": {},
   "outputs": [],
   "source": [
    "#string manipulations\n",
    "\n",
    "str=\"python works in Object Oriented Approach\"\n",
    "\n",
    "print(str.lower())\n",
    "\n",
    "print(str.upper())\n",
    "\n",
    "str1 = str.split(\" \")\n",
    "print(str1)\n",
    "\n",
    "print(str*5)\n",
    "\n",
    "print(str.index(\"in\"))\n",
    "\n",
    "print(str.replace(\"O\",\"K\"))\n",
    "\n",
    "print(len(str))\n",
    "\n",
    "print(str.count('O'))\n",
    "print(str.find('O'))\n",
    "print(str.rfind('O'))\n",
    "print(str.capitalize())\n",
    "\n",
    "print(str.swapcase())\n",
    "\n",
    "str0=\"   learning\"\n",
    "\n",
    "print(str0)\n",
    "print(str0.lstrip())\n",
    "#print(str0.strip)\n",
    "\n",
    "print(str0.startsWith(\"\"))\n"
   ]
  },
  {
   "cell_type": "code",
   "execution_count": null,
   "id": "4780f923",
   "metadata": {},
   "outputs": [],
   "source": [
    "str2=\"Python follows OOPS\"\n",
    "\n",
    "print(str2.startswith(\"L\"))\n",
    "\n",
    "print(str2.endswith(\"S\"))\n",
    "\n",
    "print(\"*\" *2)\n",
    "\n",
    "str3=\" C++ \"\n",
    "\n",
    "str4=\"Django\"\n",
    "\n",
    "print(str3.strip()+str4) #+ - concatenation\n",
    "\n",
    "str5=\"Hello world\"\n",
    "\n",
    "print(\"!\".join(str5))\n",
    "\n",
    "#slicing and dicing \n",
    "\n",
    "str6=\"python\"\n",
    "\n",
    "print(str6[0:4])\n",
    "\n",
    "print(str6[::-1])\n",
    "\n",
    "print(str6[:])\n",
    "\n",
    "print(str6.isalnum())\n",
    "\n",
    "print(str6.isalpha())\n",
    "\n",
    "print(str6.isdigit())\n",
    "\n",
    "print(str6.isspace())"
   ]
  },
  {
   "cell_type": "code",
   "execution_count": null,
   "id": "287aee10",
   "metadata": {},
   "outputs": [],
   "source": [
    "#unpacking the strings\n",
    "\n",
    "a,b,c,d,e=10,20,30,\"hello\"\n",
    "print(d)\n",
    "print(a+b)\n",
    "print(e)"
   ]
  },
  {
   "cell_type": "code",
   "execution_count": null,
   "id": "ec5d101a",
   "metadata": {},
   "outputs": [],
   "source": [
    "a=10\n",
    "c=12\n",
    "c,d=a,a+c\n",
    "print(d)\n",
    "print(c)\n"
   ]
  },
  {
   "cell_type": "code",
   "execution_count": 26,
   "id": "f4484fa7",
   "metadata": {},
   "outputs": [
    {
     "name": "stdout",
     "output_type": "stream",
     "text": [
      "10\n",
      "20\n"
     ]
    }
   ],
   "source": [
    "a=10\n",
    "c=12\n",
    "c=a\n",
    "d=a+c\n",
    "print(c)\n",
    "print(d)"
   ]
  },
  {
   "cell_type": "code",
   "execution_count": 42,
   "id": "502d39f3",
   "metadata": {},
   "outputs": [
    {
     "name": "stdout",
     "output_type": "stream",
     "text": [
      "['Hadoop', 'Spark', 'Python', 'C', 'C++', 'COBOL']\n",
      "['Hadoop', 'Spark', 'Python', 'Hadoop', 'Spark', 'Python']\n",
      "False\n",
      "['Spark', 'Python']\n",
      "12\n",
      "90\n",
      "136\n",
      "3\n",
      "45\n",
      "[90, 34, 12]\n",
      "['hello', 'python', 'world']\n"
     ]
    }
   ],
   "source": [
    "#List sequence operations\n",
    "\n",
    "list1=[\"Hadoop\",\"Spark\",\"Python\"]\n",
    "list2=[\"C\",\"C++\",\"COBOL\"]\n",
    "print(list1+list2)\n",
    "\n",
    "print(list1*2)\n",
    "\n",
    "print(\"Python\" in list2)\n",
    "\n",
    "print(list1[1:])\n",
    "\n",
    "list_num=[12,34,90]\n",
    "\n",
    "print(min(list_num))\n",
    "\n",
    "print(max(list_num))\n",
    "\n",
    "print(sum(list_num))\n",
    "\n",
    "print(len(list_num))\n",
    "\n",
    "print(int(sum(list_num)/len(list_num)))\n",
    "\n",
    "print(sorted(list_num,reverse=True))\n",
    "\n",
    "list_str=[\"hello\",\"world\",\"python\"]\n",
    "\n",
    "print(sorted(list_str))"
   ]
  },
  {
   "cell_type": "code",
   "execution_count": 49,
   "id": "df089af9",
   "metadata": {},
   "outputs": [
    {
     "name": "stdout",
     "output_type": "stream",
     "text": [
      "[4, 7]\n",
      "<class 'tuple'>\n",
      "2150402066688\n",
      "2150402066688\n",
      "([1, 90, 3], [9, 8, 7, 3, 4, 7])\n"
     ]
    }
   ],
   "source": [
    "#tuple sequence operations\n",
    "\n",
    "tup1=([1,2,3],[9,8,7,3,4,7])\n",
    "#print(tup1)\n",
    "print(tup1[1][4:])\n",
    "\n",
    "print(type(tup1))\n",
    "print(id(tup1))\n",
    "tup1[0][1]=90\n",
    "\n",
    "print(id(tup1))\n",
    "print(tup1)\n",
    "\n"
   ]
  },
  {
   "cell_type": "code",
   "execution_count": 50,
   "id": "d808fc37",
   "metadata": {},
   "outputs": [
    {
     "name": "stdout",
     "output_type": "stream",
     "text": [
      "[(1, 2, 3), ('A', 'B', 'C')]\n"
     ]
    },
    {
     "ename": "TypeError",
     "evalue": "'tuple' object does not support item assignment",
     "output_type": "error",
     "traceback": [
      "\u001b[1;31m---------------------------------------------------------------------------\u001b[0m",
      "\u001b[1;31mTypeError\u001b[0m                                 Traceback (most recent call last)",
      "\u001b[1;32m<ipython-input-50-c5c39418ec88>\u001b[0m in \u001b[0;36m<module>\u001b[1;34m\u001b[0m\n\u001b[0;32m      2\u001b[0m \u001b[0mprint\u001b[0m\u001b[1;33m(\u001b[0m\u001b[0mlist1\u001b[0m\u001b[1;33m)\u001b[0m\u001b[1;33m\u001b[0m\u001b[1;33m\u001b[0m\u001b[0m\n\u001b[0;32m      3\u001b[0m \u001b[1;33m\u001b[0m\u001b[0m\n\u001b[1;32m----> 4\u001b[1;33m \u001b[0mlist1\u001b[0m\u001b[1;33m[\u001b[0m\u001b[1;36m0\u001b[0m\u001b[1;33m]\u001b[0m\u001b[1;33m[\u001b[0m\u001b[1;36m1\u001b[0m\u001b[1;33m]\u001b[0m\u001b[1;33m=\u001b[0m\u001b[1;34m\"Python\"\u001b[0m\u001b[1;33m\u001b[0m\u001b[1;33m\u001b[0m\u001b[0m\n\u001b[0m\u001b[0;32m      5\u001b[0m \u001b[0mprint\u001b[0m\u001b[1;33m(\u001b[0m\u001b[0mlist1\u001b[0m\u001b[1;33m)\u001b[0m\u001b[1;33m\u001b[0m\u001b[1;33m\u001b[0m\u001b[0m\n",
      "\u001b[1;31mTypeError\u001b[0m: 'tuple' object does not support item assignment"
     ]
    }
   ],
   "source": [
    "\n",
    "list1=[(1,2,3),(\"A\",\"B\",\"C\")]\n",
    "print(list1)\n",
    "\n",
    "list1[0][1]=\"Python\"\n",
    "print(list1)"
   ]
  },
  {
   "cell_type": "code",
   "execution_count": 54,
   "id": "216d1005",
   "metadata": {},
   "outputs": [
    {
     "name": "stdout",
     "output_type": "stream",
     "text": [
      "('Anu', 'Priya', 90, 89)\n",
      "('Anu', 'Priya', 'Anu', 'Priya')\n",
      "False\n",
      "('Anu',)\n"
     ]
    }
   ],
   "source": [
    "tup_names=(\"Anu\",\"Priya\")\n",
    "tup_marks=(90,89)\n",
    "\n",
    "print(tup_names+tup_marks)\n",
    "\n",
    "print(tup_names*2)\n",
    "\n",
    "print(\"kiran\" in tup_names)\n",
    "\n",
    "print(tup_names[:1])"
   ]
  },
  {
   "cell_type": "code",
   "execution_count": 61,
   "id": "1dfc4327",
   "metadata": {},
   "outputs": [
    {
     "name": "stdout",
     "output_type": "stream",
     "text": [
      "{'anu', 'priya', 'kiran', 89, 90, 12}\n",
      "{'priya'}\n",
      "{'anu', 'kiran'}\n",
      "True\n"
     ]
    },
    {
     "ename": "TypeError",
     "evalue": "unsupported operand type(s) for *: 'set' and 'int'",
     "output_type": "error",
     "traceback": [
      "\u001b[1;31m---------------------------------------------------------------------------\u001b[0m",
      "\u001b[1;31mTypeError\u001b[0m                                 Traceback (most recent call last)",
      "\u001b[1;32m<ipython-input-61-053b8ec68f16>\u001b[0m in \u001b[0;36m<module>\u001b[1;34m\u001b[0m\n\u001b[0;32m     13\u001b[0m \u001b[0mprint\u001b[0m\u001b[1;33m(\u001b[0m\u001b[1;34m\"kiran\"\u001b[0m \u001b[1;32min\u001b[0m \u001b[0mset1\u001b[0m\u001b[1;33m)\u001b[0m\u001b[1;33m\u001b[0m\u001b[1;33m\u001b[0m\u001b[0m\n\u001b[0;32m     14\u001b[0m \u001b[1;33m\u001b[0m\u001b[0m\n\u001b[1;32m---> 15\u001b[1;33m \u001b[0mprint\u001b[0m\u001b[1;33m(\u001b[0m\u001b[0mset1\u001b[0m \u001b[1;33m*\u001b[0m\u001b[1;36m2\u001b[0m\u001b[1;33m)\u001b[0m\u001b[1;33m\u001b[0m\u001b[1;33m\u001b[0m\u001b[0m\n\u001b[0m",
      "\u001b[1;31mTypeError\u001b[0m: unsupported operand type(s) for *: 'set' and 'int'"
     ]
    }
   ],
   "source": [
    "#sets \n",
    "\n",
    "set1={\"anu\",\"kiran\",\"priya\"}\n",
    "\n",
    "set2={12,89,90,\"priya\"}\n",
    "\n",
    "print(set1 | set2) #union\n",
    "\n",
    "print(set1 & set2) #intersection\n",
    "\n",
    "print(set1 - set2) #difference\n",
    "\n",
    "print(\"kiran\" in set1)\n",
    "\n",
    "\n"
   ]
  },
  {
   "cell_type": "code",
   "execution_count": 66,
   "id": "a0370132",
   "metadata": {},
   "outputs": [
    {
     "name": "stdout",
     "output_type": "stream",
     "text": [
      "2\n",
      "priya@gmail.com\n",
      "priya@gmail.com\n",
      "dict_items([(10, 'anu@gmail.com'), (12, 'priya@gmail.com')])\n",
      "dict_keys([10, 12])\n",
      "dict_values(['anu@gmail.com', 'priya@gmail.com'])\n"
     ]
    }
   ],
   "source": [
    "#dictionary\n",
    "\n",
    "dict1={10:\"anu\",12:\"priya\"}\n",
    "dict2={10:\"anu@gmail.com\",12:\"priya@gmail.com\"}\n",
    "\n",
    "print(len(dict2))\n",
    "print(dict2.get(12))\n",
    "print(dict2[12])\n",
    "print(dict2.items())\n",
    "print(dict2.keys())\n",
    "print(dict2.values())"
   ]
  },
  {
   "cell_type": "code",
   "execution_count": 70,
   "id": "04b3a067",
   "metadata": {},
   "outputs": [
    {
     "name": "stdout",
     "output_type": "stream",
     "text": [
      "The name is priya and the age is 10\n",
      "The name is priya and the age is 10\n"
     ]
    }
   ],
   "source": [
    "name=\"priya\"\n",
    "age=10\n",
    "\n",
    "print(\"The name is {} and the age is {}\".format(name,age))\n",
    "print(\"The name is %s and the age is %d\"%(name,age))"
   ]
  }
 ],
 "metadata": {
  "kernelspec": {
   "display_name": "Python 3",
   "language": "python",
   "name": "python3"
  },
  "language_info": {
   "codemirror_mode": {
    "name": "ipython",
    "version": 3
   },
   "file_extension": ".py",
   "mimetype": "text/x-python",
   "name": "python",
   "nbconvert_exporter": "python",
   "pygments_lexer": "ipython3",
   "version": "3.8.8"
  }
 },
 "nbformat": 4,
 "nbformat_minor": 5
}
